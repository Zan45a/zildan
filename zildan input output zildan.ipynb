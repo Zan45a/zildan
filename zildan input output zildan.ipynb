{
 "cells": [
  {
   "cell_type": "code",
   "execution_count": 1,
   "id": "58a102be",
   "metadata": {},
   "outputs": [
    {
     "name": "stdout",
     "output_type": "stream",
     "text": [
      "isikan nama awal:asep\n",
      "isikan nama tegah:sakd\n",
      "isikan nama akhirasf\n",
      "selamat datang asep sakd asf\n"
     ]
    }
   ],
   "source": [
    "fname = input ('isikan nama awal:')\n",
    "mname = input ('isikan nama tegah:')\n",
    "iname = input ('isikan nama akhir')\n",
    "\n",
    "print ('selamat datang',fname,mname,iname)"
   ]
  },
  {
   "cell_type": "code",
   "execution_count": 7,
   "id": "fa0784dd",
   "metadata": {},
   "outputs": [
    {
     "name": "stdout",
     "output_type": "stream",
     "text": [
      "ISIKAN NAMA BILANGAN 1:4\n",
      "ISIKAN NAMA BILANGAN 2:8\n",
      "<class 'str'>\n",
      "hasil pemjumlahan 12\n"
     ]
    }
   ],
   "source": [
    "bil1= input('ISIKAN NAMA BILANGAN 1:')\n",
    "bil2= input('ISIKAN NAMA BILANGAN 2:')\n",
    "print(type(bil1))\n",
    "hasil=int(bil1)+int(bil2)\n",
    "print('hasil pemjumlahan',hasil)"
   ]
  },
  {
   "cell_type": "code",
   "execution_count": 8,
   "id": "2d645266",
   "metadata": {},
   "outputs": [
    {
     "name": "stdout",
     "output_type": "stream",
     "text": [
      "Area: 50\n",
      "Perimeter: 30\n"
     ]
    }
   ],
   "source": [
    "class Rectangle:\n",
    "    def __init__(self, width, height):\n",
    "        self.width = width\n",
    "        self.height = height\n",
    "    \n",
    "    def area(self):\n",
    "        return self.width * self.height\n",
    "    \n",
    "    def perimeter(self):\n",
    "        return 2 * (self.width + self.height)\n",
    "\n",
    "# Example usage:\n",
    "rectangle = Rectangle(5, 10)\n",
    "print(\"Area:\", rectangle.area())\n",
    "print(\"Perimeter:\", rectangle.perimeter())"
   ]
  },
  {
   "cell_type": "code",
   "execution_count": 14,
   "id": "1ab10f1c",
   "metadata": {},
   "outputs": [
    {
     "name": "stdout",
     "output_type": "stream",
     "text": [
      "isikan panjang persegi:80\n",
      "isikan lebar persegi:110\n",
      "Luas persegi panjang 8800\n",
      "keliling persegi panjang 380\n"
     ]
    }
   ],
   "source": [
    "p=input('isikan panjang persegi:')\n",
    "L=input('isikan lebar persegi:')\n",
    "\n",
    "Luas=int(p) *int (L)\n",
    "keliling = 2* (int(p) + int(L))\n",
    "\n",
    "print('Luas persegi panjang',Luas)\n",
    "print('keliling persegi panjang',keliling)"
   ]
  },
  {
   "cell_type": "code",
   "execution_count": 15,
   "id": "4ca8e016",
   "metadata": {},
   "outputs": [
    {
     "name": "stdout",
     "output_type": "stream",
     "text": [
      "Wednesday\n",
      "Thursday\n",
      "Friday\n",
      "Saturday\n",
      "Sunday\n"
     ]
    }
   ],
   "source": [
    "import datetime\n",
    "\n",
    "# Mendapatkan tanggal saat ini\n",
    "now = datetime.datetime.now()\n",
    "\n",
    "# Menghitung jumlah hari yang diperlukan untuk mencapai minggu\n",
    "days_to_week = (7 - now.weekday()) % 7\n",
    "\n",
    "# Mengiterasi hingga minggu\n",
    "for i in range(days_to_week):\n",
    "    # Menghitung tanggal untuk setiap hari\n",
    "    day = now + datetime.timedelta(days=i)\n",
    "    \n",
    "    # Mencetak nama hari\n",
    "    print(day.strftime(\"%A\"))"
   ]
  },
  {
   "cell_type": "code",
   "execution_count": 17,
   "id": "f4586a43",
   "metadata": {},
   "outputs": [
    {
     "name": "stdout",
     "output_type": "stream",
     "text": [
      "Hasil perkalian bilangan 7 dan 10 adalah: 70\n"
     ]
    }
   ],
   "source": [
    "bilangan1 = 7\n",
    "bilangan2 = 10\n",
    "hasil_perkalian = bilangan1 * bilangan2\n",
    "print(\"Hasil perkalian bilangan 7 dan 10 adalah:\", hasil_perkalian)"
   ]
  },
  {
   "cell_type": "code",
   "execution_count": 21,
   "id": "cc7d968e",
   "metadata": {},
   "outputs": [
    {
     "name": "stdout",
     "output_type": "stream",
     "text": [
      "urutan huruf ZildanSuryaPermana\n"
     ]
    }
   ],
   "source": [
    "frist_name=\"Zildan\"\n",
    "middle_name=\"Surya\"\n",
    "last_name=\"Permana\"\n",
    "print(\"urutan huruf {}{}{}\".format (frist_name,middle_name,last_name))"
   ]
  },
  {
   "cell_type": "code",
   "execution_count": 27,
   "id": "1899bc49",
   "metadata": {},
   "outputs": [
    {
     "name": "stdout",
     "output_type": "stream",
     "text": [
      "sekarang tanggal 20 bulan maret dan 2024)\n"
     ]
    }
   ],
   "source": [
    "#sekarang tanggal 20 bulan maret tahun 2024\n",
    "print (\"sekarang tanggal {tanggal} bulan {bulan} dan {tahun})\".\n",
    "       format(tanggal =20,bulan=\"maret\",tahun=2024))"
   ]
  },
  {
   "cell_type": "code",
   "execution_count": 30,
   "id": "89d106b1",
   "metadata": {},
   "outputs": [
    {
     "name": "stdout",
     "output_type": "stream",
     "text": [
      "huruf pertama adalah U\n",
      "hurup terakhir adalah a\n",
      "huruf range 0-10 Universitas\n",
      "Putra\n",
      "Nusa Putra\n",
      "artuP asuN satisrevinU\n"
     ]
    }
   ],
   "source": [
    "kampus = \"Universitas Nusa Putra\"\n",
    "print (\"huruf pertama adalah\" ,kampus[0])\n",
    "print (\"hurup terakhir adalah\" ,kampus[-1])\n",
    "print (\"huruf range 0-10\",kampus [0:11])\n",
    "print (kampus[-5:])\n",
    "print (kampus[12:])\n",
    "#reverse string\n",
    "print(kampus[::-1])"
   ]
  },
  {
   "cell_type": "code",
   "execution_count": 31,
   "id": "9ea455c6",
   "metadata": {},
   "outputs": [
    {
     "name": "stdout",
     "output_type": "stream",
     "text": [
      "['jakarta', 'sukabumi', 'malang', 'bandung', 'bali', 'paris', 'impeldown']\n",
      "jakarta\n",
      "jakarta@sukabumi@malang@bandung@bali@paris@impeldown\n"
     ]
    }
   ],
   "source": [
    "#split => string -> list\n",
    "kota= \"jakarta sukabumi malang bandung bali paris impeldown\"\n",
    "list_kota =kota.split()\n",
    "print(list_kota)\n",
    "print(list_kota[0])\n",
    "#join => list -> string\n",
    "join_kota =\"@\".join(list_kota)\n",
    "print(join_kota)"
   ]
  },
  {
   "cell_type": "code",
   "execution_count": 47,
   "id": "3ce6113a",
   "metadata": {},
   "outputs": [
    {
     "name": "stdout",
     "output_type": "stream",
     "text": [
      "isikan nama anda:ZILDAN SURYA PERMANA\n",
      "isikan tanggal lahir:15 SEPTEMBER 2005\n",
      "nama awal : ZILDAN\n",
      "nama akhir : SURYA\n"
     ]
    },
    {
     "ename": "NameError",
     "evalue": "name 'tgl' is not defined",
     "output_type": "error",
     "traceback": [
      "\u001b[1;31m---------------------------------------------------------------------------\u001b[0m",
      "\u001b[1;31mNameError\u001b[0m                                 Traceback (most recent call last)",
      "Input \u001b[1;32mIn [47]\u001b[0m, in \u001b[0;36m<cell line: 18>\u001b[1;34m()\u001b[0m\n\u001b[0;32m     15\u001b[0m \u001b[38;5;28mprint\u001b[39m(\u001b[38;5;124m\"\u001b[39m\u001b[38;5;124mnama awal :\u001b[39m\u001b[38;5;124m\"\u001b[39m , list_nama[\u001b[38;5;241m0\u001b[39m])\n\u001b[0;32m     16\u001b[0m \u001b[38;5;28mprint\u001b[39m(\u001b[38;5;124m\"\u001b[39m\u001b[38;5;124mnama akhir :\u001b[39m\u001b[38;5;124m\"\u001b[39m , list_nama[\u001b[38;5;241m1\u001b[39m])\n\u001b[1;32m---> 18\u001b[0m list_tanggal \u001b[38;5;241m=\u001b[39m \u001b[43mtgl\u001b[49m\u001b[38;5;241m.\u001b[39msplit()\n\u001b[0;32m     19\u001b[0m \u001b[38;5;28mprint\u001b[39m(\u001b[38;5;124m\"\u001b[39m\u001b[38;5;124mhari:\u001b[39m\u001b[38;5;124m\"\u001b[39m, list_tgl[\u001b[38;5;241m0\u001b[39m])\n\u001b[0;32m     20\u001b[0m \u001b[38;5;28mprint\u001b[39m(\u001b[38;5;124m\"\u001b[39m\u001b[38;5;124mbulan:\u001b[39m\u001b[38;5;124m\"\u001b[39m, list_tgl[\u001b[38;5;241m1\u001b[39m])\n",
      "\u001b[1;31mNameError\u001b[0m: name 'tgl' is not defined"
     ]
    }
   ],
   "source": [
    "#isikan nama anda : \n",
    "#isikan tanggal lahir anda :\n",
    "#output :\n",
    "#nama awal :\n",
    "#nama akhir :\n",
    "#tanggal lahir :\n",
    "#bulan lahir :\n",
    "#tahun lahir :\n",
    "#nama inisial :\n",
    "\n",
    "nama = input(\"isikan nama anda:\")\n",
    "tanggal = input(\"isikan tanggal lahir:\")\n",
    "\n",
    "list_nama = nama.split()\n",
    "print(\"nama awal :\" , list_nama[0])\n",
    "print(\"nama akhir :\" , list_nama[1])\n",
    "\n",
    "list_tanggal = tgl.split()\n",
    "print(\"hari:\", list_tgl[0])\n",
    "print(\"bulan:\", list_tgl[1])\n",
    "print(\"tahun:\", list_tgl[2])\n",
    "\n",
    "inisial = list_name[0][0] + list_name[1][0]\n",
    "\n",
    "print(\"Name isinial:\", inisial)"
   ]
  },
  {
   "cell_type": "code",
   "execution_count": null,
   "id": "d5c6c1a4",
   "metadata": {},
   "outputs": [],
   "source": []
  }
 ],
 "metadata": {
  "kernelspec": {
   "display_name": "Python 3 (ipykernel)",
   "language": "python",
   "name": "python3"
  },
  "language_info": {
   "codemirror_mode": {
    "name": "ipython",
    "version": 3
   },
   "file_extension": ".py",
   "mimetype": "text/x-python",
   "name": "python",
   "nbconvert_exporter": "python",
   "pygments_lexer": "ipython3",
   "version": "3.9.12"
  }
 },
 "nbformat": 4,
 "nbformat_minor": 5
}
