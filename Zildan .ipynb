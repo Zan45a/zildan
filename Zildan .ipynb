{
 "cells": [
  {
   "cell_type": "code",
   "execution_count": 8,
   "id": "91cd4402",
   "metadata": {},
   "outputs": [
    {
     "name": "stdout",
     "output_type": "stream",
     "text": [
      "1\n",
      "2\n",
      "3\n",
      "4\n",
      "5\n",
      "6\n",
      "7\n",
      "8\n",
      "9\n",
      "10\n"
     ]
    }
   ],
   "source": [
    "# For in range\n",
    "# print 1 - 10\n",
    "\n",
    "for i in range(1,11):\n",
    "     print(i)"
   ]
  },
  {
   "cell_type": "code",
   "execution_count": 13,
   "id": "7fc73e6c",
   "metadata": {},
   "outputs": [
    {
     "name": "stdout",
     "output_type": "stream",
     "text": [
      "100\n",
      "100\n",
      "100\n",
      "100\n",
      "100\n",
      "100\n",
      "100\n",
      "100\n",
      "100\n",
      "100\n"
     ]
    }
   ],
   "source": [
    "#print 10 20 30 40 50 --- 100\n",
    "for i in range(1,11):\n",
    "    print(1*100)"
   ]
  },
  {
   "cell_type": "code",
   "execution_count": 7,
   "id": "ca8fab4b",
   "metadata": {},
   "outputs": [
    {
     "name": "stdout",
     "output_type": "stream",
     "text": [
      "10\n",
      "20\n",
      "30\n",
      "40\n",
      "50\n",
      "60\n",
      "70\n",
      "80\n",
      "90\n",
      "100\n"
     ]
    }
   ],
   "source": [
    "for i in range(10,110,10):\n",
    "    print(i)"
   ]
  },
  {
   "cell_type": "code",
   "execution_count": 9,
   "id": "2cc3db44",
   "metadata": {},
   "outputs": [
    {
     "name": "stdout",
     "output_type": "stream",
     "text": [
      "10\n",
      "9\n",
      "8\n",
      "7\n",
      "6\n",
      "5\n",
      "4\n",
      "3\n",
      "2\n",
      "1\n"
     ]
    }
   ],
   "source": [
    "# 10 9 8 7 --- 1\n",
    "for i in range(10,0,-1):\n",
    "    print(i)"
   ]
  },
  {
   "cell_type": "code",
   "execution_count": 18,
   "id": "899cb3ee",
   "metadata": {},
   "outputs": [
    {
     "name": "stdout",
     "output_type": "stream",
     "text": [
      "1\n",
      "-2\n",
      "3\n",
      "-4\n",
      "5\n",
      "-6\n",
      "7\n",
      "-8\n",
      "9\n",
      "-10\n"
     ]
    }
   ],
   "source": [
    "# 1 -2 3 -4 5 -6 7 -8 9 -10\n",
    "sign = 1\n",
    "for i in range(1,11):\n",
    "    print(i * sign)\n",
    "    sign *= -1"
   ]
  },
  {
   "cell_type": "code",
   "execution_count": 19,
   "id": "9b4664bb",
   "metadata": {},
   "outputs": [
    {
     "name": "stdout",
     "output_type": "stream",
     "text": [
      "isikan bilangan:5\n",
      "Faktorial dari 5! adalah 120\n"
     ]
    }
   ],
   "source": [
    "#faktorial => input 4! = 4 * 3 * 2 * 1 = 24\n",
    "\n",
    "number = int(input('isikan bilangan:'))\n",
    "\n",
    "result = 1\n",
    "for i in range(1, number+1):\n",
    "    result = result * i\n",
    "    \n",
    "print(f\"Faktorial dari {number}! adalah {result}\")"
   ]
  },
  {
   "cell_type": "code",
   "execution_count": 20,
   "id": "bbe8eecb",
   "metadata": {},
   "outputs": [
    {
     "name": "stdout",
     "output_type": "stream",
     "text": [
      "1\n"
     ]
    }
   ],
   "source": [
    "result = 1**4**2\n",
    "print(result)"
   ]
  },
  {
   "cell_type": "code",
   "execution_count": 22,
   "id": "d88900d8",
   "metadata": {},
   "outputs": [
    {
     "name": "stdout",
     "output_type": "stream",
     "text": [
      "isikan bilangan:8\n",
      "isikan bilangan:90\n",
      "8 pangkat 90 = 8\n",
      "8 pangkat 90 = 64\n",
      "8 pangkat 90 = 512\n",
      "8 pangkat 90 = 4096\n",
      "8 pangkat 90 = 32768\n",
      "8 pangkat 90 = 262144\n",
      "8 pangkat 90 = 2097152\n",
      "8 pangkat 90 = 16777216\n",
      "8 pangkat 90 = 134217728\n",
      "8 pangkat 90 = 1073741824\n",
      "8 pangkat 90 = 8589934592\n",
      "8 pangkat 90 = 68719476736\n",
      "8 pangkat 90 = 549755813888\n",
      "8 pangkat 90 = 4398046511104\n",
      "8 pangkat 90 = 35184372088832\n",
      "8 pangkat 90 = 281474976710656\n",
      "8 pangkat 90 = 2251799813685248\n",
      "8 pangkat 90 = 18014398509481984\n",
      "8 pangkat 90 = 144115188075855872\n",
      "8 pangkat 90 = 1152921504606846976\n",
      "8 pangkat 90 = 9223372036854775808\n",
      "8 pangkat 90 = 73786976294838206464\n",
      "8 pangkat 90 = 590295810358705651712\n",
      "8 pangkat 90 = 4722366482869645213696\n",
      "8 pangkat 90 = 37778931862957161709568\n",
      "8 pangkat 90 = 302231454903657293676544\n",
      "8 pangkat 90 = 2417851639229258349412352\n",
      "8 pangkat 90 = 19342813113834066795298816\n",
      "8 pangkat 90 = 154742504910672534362390528\n",
      "8 pangkat 90 = 1237940039285380274899124224\n",
      "8 pangkat 90 = 9903520314283042199192993792\n",
      "8 pangkat 90 = 79228162514264337593543950336\n",
      "8 pangkat 90 = 633825300114114700748351602688\n",
      "8 pangkat 90 = 5070602400912917605986812821504\n",
      "8 pangkat 90 = 40564819207303340847894502572032\n",
      "8 pangkat 90 = 324518553658426726783156020576256\n",
      "8 pangkat 90 = 2596148429267413814265248164610048\n",
      "8 pangkat 90 = 20769187434139310514121985316880384\n",
      "8 pangkat 90 = 166153499473114484112975882535043072\n",
      "8 pangkat 90 = 1329227995784915872903807060280344576\n",
      "8 pangkat 90 = 10633823966279326983230456482242756608\n",
      "8 pangkat 90 = 85070591730234615865843651857942052864\n",
      "8 pangkat 90 = 680564733841876926926749214863536422912\n",
      "8 pangkat 90 = 5444517870735015415413993718908291383296\n",
      "8 pangkat 90 = 43556142965880123323311949751266331066368\n",
      "8 pangkat 90 = 348449143727040986586495598010130648530944\n",
      "8 pangkat 90 = 2787593149816327892691964784081045188247552\n",
      "8 pangkat 90 = 22300745198530623141535718272648361505980416\n",
      "8 pangkat 90 = 178405961588244985132285746181186892047843328\n",
      "8 pangkat 90 = 1427247692705959881058285969449495136382746624\n",
      "8 pangkat 90 = 11417981541647679048466287755595961091061972992\n",
      "8 pangkat 90 = 91343852333181432387730302044767688728495783936\n",
      "8 pangkat 90 = 730750818665451459101842416358141509827966271488\n",
      "8 pangkat 90 = 5846006549323611672814739330865132078623730171904\n",
      "8 pangkat 90 = 46768052394588893382517914646921056628989841375232\n",
      "8 pangkat 90 = 374144419156711147060143317175368453031918731001856\n",
      "8 pangkat 90 = 2993155353253689176481146537402947624255349848014848\n",
      "8 pangkat 90 = 23945242826029513411849172299223580994042798784118784\n",
      "8 pangkat 90 = 191561942608236107294793378393788647952342390272950272\n",
      "8 pangkat 90 = 1532495540865888858358347027150309183618739122183602176\n",
      "8 pangkat 90 = 12259964326927110866866776217202473468949912977468817408\n",
      "8 pangkat 90 = 98079714615416886934934209737619787751599303819750539264\n",
      "8 pangkat 90 = 784637716923335095479473677900958302012794430558004314112\n",
      "8 pangkat 90 = 6277101735386680763835789423207666416102355444464034512896\n",
      "8 pangkat 90 = 50216813883093446110686315385661331328818843555712276103168\n",
      "8 pangkat 90 = 401734511064747568885490523085290650630550748445698208825344\n",
      "8 pangkat 90 = 3213876088517980551083924184682325205044405987565585670602752\n",
      "8 pangkat 90 = 25711008708143844408671393477458601640355247900524685364822016\n",
      "8 pangkat 90 = 205688069665150755269371147819668813122841983204197482918576128\n",
      "8 pangkat 90 = 1645504557321206042154969182557350504982735865633579863348609024\n",
      "8 pangkat 90 = 13164036458569648337239753460458804039861886925068638906788872192\n",
      "8 pangkat 90 = 105312291668557186697918027683670432318895095400549111254310977536\n",
      "8 pangkat 90 = 842498333348457493583344221469363458551160763204392890034487820288\n",
      "8 pangkat 90 = 6739986666787659948666753771754907668409286105635143120275902562304\n",
      "8 pangkat 90 = 53919893334301279589334030174039261347274288845081144962207220498432\n",
      "8 pangkat 90 = 431359146674410236714672241392314090778194310760649159697657763987456\n",
      "8 pangkat 90 = 3450873173395281893717377931138512726225554486085193277581262111899648\n",
      "8 pangkat 90 = 27606985387162255149739023449108101809804435888681546220650096895197184\n",
      "8 pangkat 90 = 220855883097298041197912187592864814478435487109452369765200775161577472\n",
      "8 pangkat 90 = 1766847064778384329583297500742918515827483896875618958121606201292619776\n",
      "8 pangkat 90 = 14134776518227074636666380005943348126619871175004951664972849610340958208\n",
      "8 pangkat 90 = 113078212145816597093331040047546785012958969400039613319782796882727665664\n",
      "8 pangkat 90 = 904625697166532776746648320380374280103671755200316906558262375061821325312\n",
      "8 pangkat 90 = 7237005577332262213973186563042994240829374041602535252466099000494570602496\n",
      "8 pangkat 90 = 57896044618658097711785492504343953926634992332820282019728792003956564819968\n",
      "8 pangkat 90 = 463168356949264781694283940034751631413079938662562256157830336031652518559744\n",
      "8 pangkat 90 = 3705346855594118253554271520278013051304639509300498049262642688253220148477952\n",
      "8 pangkat 90 = 29642774844752946028434172162224104410437116074403984394101141506025761187823616\n",
      "8 pangkat 90 = 237142198758023568227473377297792835283496928595231875152809132048206089502588928\n",
      "8 pangkat 90 = 1897137590064188545819787018382342682267975428761855001222473056385648716020711424\n"
     ]
    }
   ],
   "source": [
    "number = int(input('isikan bilangan:'))\n",
    "pangkat = int(input('isikan bilangan:'))\n",
    "\n",
    "result = 1\n",
    "for i in range(1, pangkat+1):\n",
    "    result*=number\n",
    "    print(f\"{number} pangkat {pangkat} = {result}\")"
   ]
  },
  {
   "cell_type": "code",
   "execution_count": 32,
   "id": "f733e0d9",
   "metadata": {},
   "outputs": [
    {
     "name": "stdout",
     "output_type": "stream",
     "text": [
      "isikan bilangan:3\n",
      "3 adalah bilangan prima.\n"
     ]
    }
   ],
   "source": [
    "#Cek bilangan prima\n",
    "#bil. prima adalah bilangan yang hanya habis di bagi dengan bil itu\n",
    "#sendiri dan 1\n",
    "\n",
    "#bil. prima punya 2 faktor\n",
    "#Jika number % i == 0 maka nilai faktor di increment(+1)\n",
    "#setelah selesai perulangan, jika faktor == 2 maka bilangan prima\n",
    "\n",
    "number = int(input('isikan bilangan:'))\n",
    "faktor = 0\n",
    "for i in range(1, number+1):\n",
    "    sisa = number % i\n",
    "    if number % i ==0:\n",
    "        faktor = faktor + 1\n",
    "        \n",
    "if faktor == 2:\n",
    "    print(f\"{number} adalah bilangan prima.\")\n",
    "else :\n",
    "    print(f\"{number} adalah bilangan prima.\")"
   ]
  },
  {
   "cell_type": "code",
   "execution_count": 40,
   "id": "6293f6d0",
   "metadata": {},
   "outputs": [
    {
     "name": "stdout",
     "output_type": "stream",
     "text": [
      "22\n",
      "U\n",
      "0 U\n",
      "1 n\n",
      "2 i\n",
      "3 v\n",
      "4 e\n",
      "5 r\n",
      "6 s\n",
      "7 i\n",
      "8 t\n",
      "9 a\n",
      "10 s\n",
      "11  \n",
      "12 N\n",
      "13 u\n",
      "14 s\n",
      "15 a\n",
      "16  \n",
      "17 P\n",
      "18 u\n",
      "19 t\n",
      "20 r\n",
      "21 a\n"
     ]
    }
   ],
   "source": [
    "kampus = \"Universitas Nusa Putra\" # panjang = 22\n",
    "print(len(kampus))\n",
    "print(kampus[0])\n",
    "for i,huruf in enumerate(kampus):\n",
    "    print(i,huruf)"
   ]
  },
  {
   "cell_type": "code",
   "execution_count": 60,
   "id": "1ef86f0e",
   "metadata": {
    "collapsed": true
   },
   "outputs": [
    {
     "ename": "SyntaxError",
     "evalue": "invalid syntax (749996163.py, line 15)",
     "output_type": "error",
     "traceback": [
      "\u001b[1;36m  Input \u001b[1;32mIn [60]\u001b[1;36m\u001b[0m\n\u001b[1;33m    elif kampus[i]=='i':\u001b[0m\n\u001b[1;37m    ^\u001b[0m\n\u001b[1;31mSyntaxError\u001b[0m\u001b[1;31m:\u001b[0m invalid syntax\n"
     ]
    }
   ],
   "source": [
    "#mengutung jumlah huruf vokal\n",
    "\n",
    "kampus = \"Universitas nusa putra\" #panjang 22\n",
    "panjang = len(kampus)\n",
    "\n",
    "vokal_a = 0\n",
    "vokal_i = 0\n",
    "vokal_u = 0\n",
    "vokal_e = 0\n",
    "vokal_o = 0\n",
    "\n",
    "for i in range(0,panjang):\n",
    "    if kampus[i]=='a':\n",
    "        vokal_a +=1\n",
    "        elif kampus[i]=='i':\n",
    "            vokal_i +=1\n",
    "        elif kampus[i]=='u':\n",
    "            vokal_u+=1\n",
    "        elif kampus[i]=='e':\n",
    "            vokal_e+=1\n",
    "        elif kampus[i]=='o':\n",
    "            vokal_o+=1\n",
    "            \n",
    "print(f\"jumlah huruf a:{vokal_a}\")\n",
    "print(f\"jumlah huruf i:{vokal_i}\")\n",
    "print(f\"jumlah huruf u:{vokal_u}\")\n",
    "print(f\"jumlah huruf e:{vokal_e}\")\n",
    "print(f\"jumlah huruf o:{vokal_o}\")\n",
    "print(f\"jumlah huruf vokal:{vokal_a + vokal_i + vokal_u + vokal_e + vokal_o}\")"
   ]
  },
  {
   "cell_type": "code",
   "execution_count": 62,
   "id": "908c49ab",
   "metadata": {},
   "outputs": [
    {
     "name": "stdout",
     "output_type": "stream",
     "text": [
      "isikan kalimat:kasur rusak\n",
      "palindrom\n"
     ]
    }
   ],
   "source": [
    "kalimat = input(\"isikan kalimat:\")\n",
    "panjang_kalimat = len(kalimat)\n",
    "\n",
    "# Mengecek kalimat palindrom atau bukan\n",
    "#palindrom => kalmat yg di baca\n",
    "#kanan > kekiri itu sama\n",
    "#katak => palindrome\n",
    "#kasur rusak => palindrom\n",
    "\n",
    "isPalindrome = True\n",
    "for i in range(0,panjang_kalimat):\n",
    "    urut = kalimat[i]\n",
    "    kebalikan = kalimat[panjang_kalimat - i-1]\n",
    "    if urut != kebalikan:\n",
    "        isPalindrome = False\n",
    "        break\n",
    "        \n",
    "if isPalindrome:\n",
    "    print(\"palindrom\")\n",
    "else:\n",
    "    print(\"bukan palindrome\")"
   ]
  },
  {
   "cell_type": "code",
   "execution_count": null,
   "id": "ae3a9d87",
   "metadata": {},
   "outputs": [],
   "source": [
    "ulang = \"Y\"\n",
    "while(ulang==\"Y\"):\n",
    "    kalimat = input(\"isikan kalimat:\")\n",
    "    panjang_kalimat = len(kalimat)\n",
    "    \n",
    "    isPalindrome = True\n",
    "    for i in range(0,panjang_kalimat):\n",
    "        urut = kalimat[i]\n",
    "        kebalikan = kalimat[panjang_kalimat - i-1]\n",
    "        if urut != kebalikan:\n",
    "            isPalindrome = False\n",
    "            break\n",
    "             \n",
    "        if isPalindrome==True:\n",
    "            print(f\"{kalimat}adalah palidrom\")\n",
    "        else:\n",
    "            print(f\"{kalimat}adalah bukan palidrom\")\n",
    "        ulang = input('apakah mau mengulang program?: Y/T')"
   ]
  },
  {
   "cell_type": "code",
   "execution_count": 74,
   "id": "4cdf55e5",
   "metadata": {},
   "outputs": [
    {
     "name": "stdout",
     "output_type": "stream",
     "text": [
      "i: 1 dan j :1\n",
      "i: 1 dan j :2\n",
      "i: 1 dan j :3\n",
      "i: 1 dan j :4\n",
      "i: 2 dan j :1\n",
      "i: 2 dan j :2\n",
      "i: 2 dan j :3\n",
      "i: 2 dan j :4\n",
      "i: 3 dan j :1\n",
      "i: 3 dan j :2\n",
      "i: 3 dan j :3\n",
      "i: 3 dan j :4\n",
      "i: 4 dan j :1\n",
      "i: 4 dan j :2\n",
      "i: 4 dan j :3\n",
      "i: 4 dan j :4\n"
     ]
    }
   ],
   "source": [
    "#Nested For\n",
    "for i in range(1,5):\n",
    "    for j in range(1,5):\n",
    "        print(f\"i: {i} dan j :{j}\")"
   ]
  },
  {
   "cell_type": "code",
   "execution_count": null,
   "id": "1d5ff7ac",
   "metadata": {},
   "outputs": [],
   "source": []
  }
 ],
 "metadata": {
  "kernelspec": {
   "display_name": "Python 3 (ipykernel)",
   "language": "python",
   "name": "python3"
  },
  "language_info": {
   "codemirror_mode": {
    "name": "ipython",
    "version": 3
   },
   "file_extension": ".py",
   "mimetype": "text/x-python",
   "name": "python",
   "nbconvert_exporter": "python",
   "pygments_lexer": "ipython3",
   "version": "3.9.12"
  }
 },
 "nbformat": 4,
 "nbformat_minor": 5
}
